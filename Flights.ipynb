{
  "nbformat": 4,
  "nbformat_minor": 0,
  "metadata": {
    "colab": {
      "provenance": [],
      "authorship_tag": "ABX9TyNLUmS/eWeicbdD1MTlLLgs",
      "include_colab_link": true
    },
    "kernelspec": {
      "name": "python3",
      "display_name": "Python 3"
    },
    "language_info": {
      "name": "python"
    }
  },
  "cells": [
    {
      "cell_type": "markdown",
      "metadata": {
        "id": "view-in-github",
        "colab_type": "text"
      },
      "source": [
        "<a href=\"https://colab.research.google.com/github/DevEmad2001/-Mango_Service/blob/main/Flights.ipynb\" target=\"_parent\"><img src=\"https://colab.research.google.com/assets/colab-badge.svg\" alt=\"Open In Colab\"/></a>"
      ]
    },
    {
      "cell_type": "markdown",
      "source": [
        "## how to take a sample from a csv file\n",
        "\n",
        "---\n",
        "\n"
      ],
      "metadata": {
        "id": "_ij8LNBe4Xp2"
      }
    },
    {
      "cell_type": "code",
      "execution_count": null,
      "metadata": {
        "id": "HoK9LQEz1edc"
      },
      "outputs": [],
      "source": [
        "import pandas as pd\n",
        "from google.colab import files"
      ]
    },
    {
      "cell_type": "code",
      "source": [
        "df = pd.read_csv(\"/content/flights.csv\")\n"
      ],
      "metadata": {
        "id": "rqR2_yt51_X5"
      },
      "execution_count": null,
      "outputs": []
    },
    {
      "cell_type": "code",
      "source": [
        "sample_df = df.head(2000)"
      ],
      "metadata": {
        "id": "9it8h-5D2D4e"
      },
      "execution_count": null,
      "outputs": []
    },
    {
      "cell_type": "code",
      "source": [
        "output_file = \"sample_2000_records.csv\"\n",
        "sample_df.to_csv(output_file, index=False)"
      ],
      "metadata": {
        "id": "2AHBBNQy2OF3"
      },
      "execution_count": null,
      "outputs": []
    },
    {
      "cell_type": "code",
      "source": [
        "files.download(output_file)"
      ],
      "metadata": {
        "colab": {
          "base_uri": "https://localhost:8080/",
          "height": 17
        },
        "id": "C_xQuUje2QyW",
        "outputId": "926b16c7-3284-4ab6-fbef-a59dd1199301"
      },
      "execution_count": null,
      "outputs": [
        {
          "output_type": "display_data",
          "data": {
            "text/plain": [
              "<IPython.core.display.Javascript object>"
            ],
            "application/javascript": [
              "\n",
              "    async function download(id, filename, size) {\n",
              "      if (!google.colab.kernel.accessAllowed) {\n",
              "        return;\n",
              "      }\n",
              "      const div = document.createElement('div');\n",
              "      const label = document.createElement('label');\n",
              "      label.textContent = `Downloading \"${filename}\": `;\n",
              "      div.appendChild(label);\n",
              "      const progress = document.createElement('progress');\n",
              "      progress.max = size;\n",
              "      div.appendChild(progress);\n",
              "      document.body.appendChild(div);\n",
              "\n",
              "      const buffers = [];\n",
              "      let downloaded = 0;\n",
              "\n",
              "      const channel = await google.colab.kernel.comms.open(id);\n",
              "      // Send a message to notify the kernel that we're ready.\n",
              "      channel.send({})\n",
              "\n",
              "      for await (const message of channel.messages) {\n",
              "        // Send a message to notify the kernel that we're ready.\n",
              "        channel.send({})\n",
              "        if (message.buffers) {\n",
              "          for (const buffer of message.buffers) {\n",
              "            buffers.push(buffer);\n",
              "            downloaded += buffer.byteLength;\n",
              "            progress.value = downloaded;\n",
              "          }\n",
              "        }\n",
              "      }\n",
              "      const blob = new Blob(buffers, {type: 'application/binary'});\n",
              "      const a = document.createElement('a');\n",
              "      a.href = window.URL.createObjectURL(blob);\n",
              "      a.download = filename;\n",
              "      div.appendChild(a);\n",
              "      a.click();\n",
              "      div.remove();\n",
              "    }\n",
              "  "
            ]
          },
          "metadata": {}
        },
        {
          "output_type": "display_data",
          "data": {
            "text/plain": [
              "<IPython.core.display.Javascript object>"
            ],
            "application/javascript": [
              "download(\"download_7c1f8fa4-84dc-4b93-be0d-d89a747a1adc\", \"sample_2000_records.csv\", 233770)"
            ]
          },
          "metadata": {}
        }
      ]
    },
    {
      "cell_type": "markdown",
      "source": [
        "## Read New file"
      ],
      "metadata": {
        "id": "xv4_BPJD4hX9"
      }
    },
    {
      "cell_type": "code",
      "source": [
        "data = pd.read_csv(\"/content/sample_2000_records.csv\")"
      ],
      "metadata": {
        "id": "uD-Na0Na4gQl"
      },
      "execution_count": null,
      "outputs": []
    },
    {
      "cell_type": "code",
      "source": [
        "data.head()"
      ],
      "metadata": {
        "colab": {
          "base_uri": "https://localhost:8080/",
          "height": 255
        },
        "id": "yPVJg9-T6L92",
        "outputId": "2cb1c05e-84b5-4c98-e742-c5ee2267cfce"
      },
      "execution_count": null,
      "outputs": [
        {
          "output_type": "execute_result",
          "data": {
            "text/plain": [
              "   YEAR  MONTH  DAY  DAY_OF_WEEK AIRLINE  FLIGHT_NUMBER TAIL_NUMBER  \\\n",
              "0  2015      1    1            4      AS             98      N407AS   \n",
              "1  2015      1    1            4      AA           2336      N3KUAA   \n",
              "2  2015      1    1            4      US            840      N171US   \n",
              "3  2015      1    1            4      AA            258      N3HYAA   \n",
              "4  2015      1    1            4      AS            135      N527AS   \n",
              "\n",
              "  ORIGIN_AIRPORT DESTINATION_AIRPORT  SCHEDULED_DEPARTURE  ...  ARRIVAL_TIME  \\\n",
              "0            ANC                 SEA                    5  ...         408.0   \n",
              "1            LAX                 PBI                   10  ...         741.0   \n",
              "2            SFO                 CLT                   20  ...         811.0   \n",
              "3            LAX                 MIA                   20  ...         756.0   \n",
              "4            SEA                 ANC                   25  ...         259.0   \n",
              "\n",
              "   ARRIVAL_DELAY  DIVERTED  CANCELLED  CANCELLATION_REASON  AIR_SYSTEM_DELAY  \\\n",
              "0          -22.0         0          0                  NaN               NaN   \n",
              "1           -9.0         0          0                  NaN               NaN   \n",
              "2            5.0         0          0                  NaN               NaN   \n",
              "3           -9.0         0          0                  NaN               NaN   \n",
              "4          -21.0         0          0                  NaN               NaN   \n",
              "\n",
              "   SECURITY_DELAY  AIRLINE_DELAY  LATE_AIRCRAFT_DELAY  WEATHER_DELAY  \n",
              "0             NaN            NaN                  NaN            NaN  \n",
              "1             NaN            NaN                  NaN            NaN  \n",
              "2             NaN            NaN                  NaN            NaN  \n",
              "3             NaN            NaN                  NaN            NaN  \n",
              "4             NaN            NaN                  NaN            NaN  \n",
              "\n",
              "[5 rows x 31 columns]"
            ],
            "text/html": [
              "\n",
              "  <div id=\"df-d8c7f6b2-1915-442f-907d-7abf11f10d57\" class=\"colab-df-container\">\n",
              "    <div>\n",
              "<style scoped>\n",
              "    .dataframe tbody tr th:only-of-type {\n",
              "        vertical-align: middle;\n",
              "    }\n",
              "\n",
              "    .dataframe tbody tr th {\n",
              "        vertical-align: top;\n",
              "    }\n",
              "\n",
              "    .dataframe thead th {\n",
              "        text-align: right;\n",
              "    }\n",
              "</style>\n",
              "<table border=\"1\" class=\"dataframe\">\n",
              "  <thead>\n",
              "    <tr style=\"text-align: right;\">\n",
              "      <th></th>\n",
              "      <th>YEAR</th>\n",
              "      <th>MONTH</th>\n",
              "      <th>DAY</th>\n",
              "      <th>DAY_OF_WEEK</th>\n",
              "      <th>AIRLINE</th>\n",
              "      <th>FLIGHT_NUMBER</th>\n",
              "      <th>TAIL_NUMBER</th>\n",
              "      <th>ORIGIN_AIRPORT</th>\n",
              "      <th>DESTINATION_AIRPORT</th>\n",
              "      <th>SCHEDULED_DEPARTURE</th>\n",
              "      <th>...</th>\n",
              "      <th>ARRIVAL_TIME</th>\n",
              "      <th>ARRIVAL_DELAY</th>\n",
              "      <th>DIVERTED</th>\n",
              "      <th>CANCELLED</th>\n",
              "      <th>CANCELLATION_REASON</th>\n",
              "      <th>AIR_SYSTEM_DELAY</th>\n",
              "      <th>SECURITY_DELAY</th>\n",
              "      <th>AIRLINE_DELAY</th>\n",
              "      <th>LATE_AIRCRAFT_DELAY</th>\n",
              "      <th>WEATHER_DELAY</th>\n",
              "    </tr>\n",
              "  </thead>\n",
              "  <tbody>\n",
              "    <tr>\n",
              "      <th>0</th>\n",
              "      <td>2015</td>\n",
              "      <td>1</td>\n",
              "      <td>1</td>\n",
              "      <td>4</td>\n",
              "      <td>AS</td>\n",
              "      <td>98</td>\n",
              "      <td>N407AS</td>\n",
              "      <td>ANC</td>\n",
              "      <td>SEA</td>\n",
              "      <td>5</td>\n",
              "      <td>...</td>\n",
              "      <td>408.0</td>\n",
              "      <td>-22.0</td>\n",
              "      <td>0</td>\n",
              "      <td>0</td>\n",
              "      <td>NaN</td>\n",
              "      <td>NaN</td>\n",
              "      <td>NaN</td>\n",
              "      <td>NaN</td>\n",
              "      <td>NaN</td>\n",
              "      <td>NaN</td>\n",
              "    </tr>\n",
              "    <tr>\n",
              "      <th>1</th>\n",
              "      <td>2015</td>\n",
              "      <td>1</td>\n",
              "      <td>1</td>\n",
              "      <td>4</td>\n",
              "      <td>AA</td>\n",
              "      <td>2336</td>\n",
              "      <td>N3KUAA</td>\n",
              "      <td>LAX</td>\n",
              "      <td>PBI</td>\n",
              "      <td>10</td>\n",
              "      <td>...</td>\n",
              "      <td>741.0</td>\n",
              "      <td>-9.0</td>\n",
              "      <td>0</td>\n",
              "      <td>0</td>\n",
              "      <td>NaN</td>\n",
              "      <td>NaN</td>\n",
              "      <td>NaN</td>\n",
              "      <td>NaN</td>\n",
              "      <td>NaN</td>\n",
              "      <td>NaN</td>\n",
              "    </tr>\n",
              "    <tr>\n",
              "      <th>2</th>\n",
              "      <td>2015</td>\n",
              "      <td>1</td>\n",
              "      <td>1</td>\n",
              "      <td>4</td>\n",
              "      <td>US</td>\n",
              "      <td>840</td>\n",
              "      <td>N171US</td>\n",
              "      <td>SFO</td>\n",
              "      <td>CLT</td>\n",
              "      <td>20</td>\n",
              "      <td>...</td>\n",
              "      <td>811.0</td>\n",
              "      <td>5.0</td>\n",
              "      <td>0</td>\n",
              "      <td>0</td>\n",
              "      <td>NaN</td>\n",
              "      <td>NaN</td>\n",
              "      <td>NaN</td>\n",
              "      <td>NaN</td>\n",
              "      <td>NaN</td>\n",
              "      <td>NaN</td>\n",
              "    </tr>\n",
              "    <tr>\n",
              "      <th>3</th>\n",
              "      <td>2015</td>\n",
              "      <td>1</td>\n",
              "      <td>1</td>\n",
              "      <td>4</td>\n",
              "      <td>AA</td>\n",
              "      <td>258</td>\n",
              "      <td>N3HYAA</td>\n",
              "      <td>LAX</td>\n",
              "      <td>MIA</td>\n",
              "      <td>20</td>\n",
              "      <td>...</td>\n",
              "      <td>756.0</td>\n",
              "      <td>-9.0</td>\n",
              "      <td>0</td>\n",
              "      <td>0</td>\n",
              "      <td>NaN</td>\n",
              "      <td>NaN</td>\n",
              "      <td>NaN</td>\n",
              "      <td>NaN</td>\n",
              "      <td>NaN</td>\n",
              "      <td>NaN</td>\n",
              "    </tr>\n",
              "    <tr>\n",
              "      <th>4</th>\n",
              "      <td>2015</td>\n",
              "      <td>1</td>\n",
              "      <td>1</td>\n",
              "      <td>4</td>\n",
              "      <td>AS</td>\n",
              "      <td>135</td>\n",
              "      <td>N527AS</td>\n",
              "      <td>SEA</td>\n",
              "      <td>ANC</td>\n",
              "      <td>25</td>\n",
              "      <td>...</td>\n",
              "      <td>259.0</td>\n",
              "      <td>-21.0</td>\n",
              "      <td>0</td>\n",
              "      <td>0</td>\n",
              "      <td>NaN</td>\n",
              "      <td>NaN</td>\n",
              "      <td>NaN</td>\n",
              "      <td>NaN</td>\n",
              "      <td>NaN</td>\n",
              "      <td>NaN</td>\n",
              "    </tr>\n",
              "  </tbody>\n",
              "</table>\n",
              "<p>5 rows × 31 columns</p>\n",
              "</div>\n",
              "    <div class=\"colab-df-buttons\">\n",
              "\n",
              "  <div class=\"colab-df-container\">\n",
              "    <button class=\"colab-df-convert\" onclick=\"convertToInteractive('df-d8c7f6b2-1915-442f-907d-7abf11f10d57')\"\n",
              "            title=\"Convert this dataframe to an interactive table.\"\n",
              "            style=\"display:none;\">\n",
              "\n",
              "  <svg xmlns=\"http://www.w3.org/2000/svg\" height=\"24px\" viewBox=\"0 -960 960 960\">\n",
              "    <path d=\"M120-120v-720h720v720H120Zm60-500h600v-160H180v160Zm220 220h160v-160H400v160Zm0 220h160v-160H400v160ZM180-400h160v-160H180v160Zm440 0h160v-160H620v160ZM180-180h160v-160H180v160Zm440 0h160v-160H620v160Z\"/>\n",
              "  </svg>\n",
              "    </button>\n",
              "\n",
              "  <style>\n",
              "    .colab-df-container {\n",
              "      display:flex;\n",
              "      gap: 12px;\n",
              "    }\n",
              "\n",
              "    .colab-df-convert {\n",
              "      background-color: #E8F0FE;\n",
              "      border: none;\n",
              "      border-radius: 50%;\n",
              "      cursor: pointer;\n",
              "      display: none;\n",
              "      fill: #1967D2;\n",
              "      height: 32px;\n",
              "      padding: 0 0 0 0;\n",
              "      width: 32px;\n",
              "    }\n",
              "\n",
              "    .colab-df-convert:hover {\n",
              "      background-color: #E2EBFA;\n",
              "      box-shadow: 0px 1px 2px rgba(60, 64, 67, 0.3), 0px 1px 3px 1px rgba(60, 64, 67, 0.15);\n",
              "      fill: #174EA6;\n",
              "    }\n",
              "\n",
              "    .colab-df-buttons div {\n",
              "      margin-bottom: 4px;\n",
              "    }\n",
              "\n",
              "    [theme=dark] .colab-df-convert {\n",
              "      background-color: #3B4455;\n",
              "      fill: #D2E3FC;\n",
              "    }\n",
              "\n",
              "    [theme=dark] .colab-df-convert:hover {\n",
              "      background-color: #434B5C;\n",
              "      box-shadow: 0px 1px 3px 1px rgba(0, 0, 0, 0.15);\n",
              "      filter: drop-shadow(0px 1px 2px rgba(0, 0, 0, 0.3));\n",
              "      fill: #FFFFFF;\n",
              "    }\n",
              "  </style>\n",
              "\n",
              "    <script>\n",
              "      const buttonEl =\n",
              "        document.querySelector('#df-d8c7f6b2-1915-442f-907d-7abf11f10d57 button.colab-df-convert');\n",
              "      buttonEl.style.display =\n",
              "        google.colab.kernel.accessAllowed ? 'block' : 'none';\n",
              "\n",
              "      async function convertToInteractive(key) {\n",
              "        const element = document.querySelector('#df-d8c7f6b2-1915-442f-907d-7abf11f10d57');\n",
              "        const dataTable =\n",
              "          await google.colab.kernel.invokeFunction('convertToInteractive',\n",
              "                                                    [key], {});\n",
              "        if (!dataTable) return;\n",
              "\n",
              "        const docLinkHtml = 'Like what you see? Visit the ' +\n",
              "          '<a target=\"_blank\" href=https://colab.research.google.com/notebooks/data_table.ipynb>data table notebook</a>'\n",
              "          + ' to learn more about interactive tables.';\n",
              "        element.innerHTML = '';\n",
              "        dataTable['output_type'] = 'display_data';\n",
              "        await google.colab.output.renderOutput(dataTable, element);\n",
              "        const docLink = document.createElement('div');\n",
              "        docLink.innerHTML = docLinkHtml;\n",
              "        element.appendChild(docLink);\n",
              "      }\n",
              "    </script>\n",
              "  </div>\n",
              "\n",
              "\n",
              "<div id=\"df-52bc0be0-8a44-4202-a4e1-3a279c9b3143\">\n",
              "  <button class=\"colab-df-quickchart\" onclick=\"quickchart('df-52bc0be0-8a44-4202-a4e1-3a279c9b3143')\"\n",
              "            title=\"Suggest charts\"\n",
              "            style=\"display:none;\">\n",
              "\n",
              "<svg xmlns=\"http://www.w3.org/2000/svg\" height=\"24px\"viewBox=\"0 0 24 24\"\n",
              "     width=\"24px\">\n",
              "    <g>\n",
              "        <path d=\"M19 3H5c-1.1 0-2 .9-2 2v14c0 1.1.9 2 2 2h14c1.1 0 2-.9 2-2V5c0-1.1-.9-2-2-2zM9 17H7v-7h2v7zm4 0h-2V7h2v10zm4 0h-2v-4h2v4z\"/>\n",
              "    </g>\n",
              "</svg>\n",
              "  </button>\n",
              "\n",
              "<style>\n",
              "  .colab-df-quickchart {\n",
              "      --bg-color: #E8F0FE;\n",
              "      --fill-color: #1967D2;\n",
              "      --hover-bg-color: #E2EBFA;\n",
              "      --hover-fill-color: #174EA6;\n",
              "      --disabled-fill-color: #AAA;\n",
              "      --disabled-bg-color: #DDD;\n",
              "  }\n",
              "\n",
              "  [theme=dark] .colab-df-quickchart {\n",
              "      --bg-color: #3B4455;\n",
              "      --fill-color: #D2E3FC;\n",
              "      --hover-bg-color: #434B5C;\n",
              "      --hover-fill-color: #FFFFFF;\n",
              "      --disabled-bg-color: #3B4455;\n",
              "      --disabled-fill-color: #666;\n",
              "  }\n",
              "\n",
              "  .colab-df-quickchart {\n",
              "    background-color: var(--bg-color);\n",
              "    border: none;\n",
              "    border-radius: 50%;\n",
              "    cursor: pointer;\n",
              "    display: none;\n",
              "    fill: var(--fill-color);\n",
              "    height: 32px;\n",
              "    padding: 0;\n",
              "    width: 32px;\n",
              "  }\n",
              "\n",
              "  .colab-df-quickchart:hover {\n",
              "    background-color: var(--hover-bg-color);\n",
              "    box-shadow: 0 1px 2px rgba(60, 64, 67, 0.3), 0 1px 3px 1px rgba(60, 64, 67, 0.15);\n",
              "    fill: var(--button-hover-fill-color);\n",
              "  }\n",
              "\n",
              "  .colab-df-quickchart-complete:disabled,\n",
              "  .colab-df-quickchart-complete:disabled:hover {\n",
              "    background-color: var(--disabled-bg-color);\n",
              "    fill: var(--disabled-fill-color);\n",
              "    box-shadow: none;\n",
              "  }\n",
              "\n",
              "  .colab-df-spinner {\n",
              "    border: 2px solid var(--fill-color);\n",
              "    border-color: transparent;\n",
              "    border-bottom-color: var(--fill-color);\n",
              "    animation:\n",
              "      spin 1s steps(1) infinite;\n",
              "  }\n",
              "\n",
              "  @keyframes spin {\n",
              "    0% {\n",
              "      border-color: transparent;\n",
              "      border-bottom-color: var(--fill-color);\n",
              "      border-left-color: var(--fill-color);\n",
              "    }\n",
              "    20% {\n",
              "      border-color: transparent;\n",
              "      border-left-color: var(--fill-color);\n",
              "      border-top-color: var(--fill-color);\n",
              "    }\n",
              "    30% {\n",
              "      border-color: transparent;\n",
              "      border-left-color: var(--fill-color);\n",
              "      border-top-color: var(--fill-color);\n",
              "      border-right-color: var(--fill-color);\n",
              "    }\n",
              "    40% {\n",
              "      border-color: transparent;\n",
              "      border-right-color: var(--fill-color);\n",
              "      border-top-color: var(--fill-color);\n",
              "    }\n",
              "    60% {\n",
              "      border-color: transparent;\n",
              "      border-right-color: var(--fill-color);\n",
              "    }\n",
              "    80% {\n",
              "      border-color: transparent;\n",
              "      border-right-color: var(--fill-color);\n",
              "      border-bottom-color: var(--fill-color);\n",
              "    }\n",
              "    90% {\n",
              "      border-color: transparent;\n",
              "      border-bottom-color: var(--fill-color);\n",
              "    }\n",
              "  }\n",
              "</style>\n",
              "\n",
              "  <script>\n",
              "    async function quickchart(key) {\n",
              "      const quickchartButtonEl =\n",
              "        document.querySelector('#' + key + ' button');\n",
              "      quickchartButtonEl.disabled = true;  // To prevent multiple clicks.\n",
              "      quickchartButtonEl.classList.add('colab-df-spinner');\n",
              "      try {\n",
              "        const charts = await google.colab.kernel.invokeFunction(\n",
              "            'suggestCharts', [key], {});\n",
              "      } catch (error) {\n",
              "        console.error('Error during call to suggestCharts:', error);\n",
              "      }\n",
              "      quickchartButtonEl.classList.remove('colab-df-spinner');\n",
              "      quickchartButtonEl.classList.add('colab-df-quickchart-complete');\n",
              "    }\n",
              "    (() => {\n",
              "      let quickchartButtonEl =\n",
              "        document.querySelector('#df-52bc0be0-8a44-4202-a4e1-3a279c9b3143 button');\n",
              "      quickchartButtonEl.style.display =\n",
              "        google.colab.kernel.accessAllowed ? 'block' : 'none';\n",
              "    })();\n",
              "  </script>\n",
              "</div>\n",
              "\n",
              "    </div>\n",
              "  </div>\n"
            ],
            "application/vnd.google.colaboratory.intrinsic+json": {
              "type": "dataframe",
              "variable_name": "data"
            }
          },
          "metadata": {},
          "execution_count": 10
        }
      ]
    },
    {
      "cell_type": "code",
      "source": [
        "# التحقق من القيم المفقودة\n",
        "missing_values = data.isnull().sum()\n",
        "\n",
        "# تصفية الأعمدة التي تحتوي على قيم مفقودة فقط\n",
        "missing_values_filtered = missing_values[missing_values > 0]\n",
        "\n",
        "# طباعة الأعمدة التي تحتوي على قيم مفقودة ونسبتها\n",
        "if not missing_values_filtered.empty:\n",
        "    print(\"الأعمدة التي تحتوي على قيم مفقودة:\")\n",
        "    for column, value in missing_values_filtered.items():\n",
        "        percentage = (value / len(data)) * 100\n",
        "        print(f\"- العمود '{column}' يحتوي على {value} قيمة مفقودة ({percentage:.2f}%).\")\n",
        "else:\n",
        "    print(\"لا توجد قيم مفقودة في البيانات.\")\n"
      ],
      "metadata": {
        "colab": {
          "base_uri": "https://localhost:8080/"
        },
        "id": "64oeR14F6UTv",
        "outputId": "b4e2c4a3-3394-410c-d764-b11cea18583a"
      },
      "execution_count": null,
      "outputs": [
        {
          "output_type": "stream",
          "name": "stdout",
          "text": [
            "الأعمدة التي تحتوي على قيم مفقودة:\n",
            "- العمود 'TAIL_NUMBER' يحتوي على 2 قيمة مفقودة (0.10%).\n",
            "- العمود 'DEPARTURE_TIME' يحتوي على 128 قيمة مفقودة (6.40%).\n",
            "- العمود 'DEPARTURE_DELAY' يحتوي على 128 قيمة مفقودة (6.40%).\n",
            "- العمود 'TAXI_OUT' يحتوي على 128 قيمة مفقودة (6.40%).\n",
            "- العمود 'WHEELS_OFF' يحتوي على 128 قيمة مفقودة (6.40%).\n",
            "- العمود 'ELAPSED_TIME' يحتوي على 130 قيمة مفقودة (6.50%).\n",
            "- العمود 'AIR_TIME' يحتوي على 130 قيمة مفقودة (6.50%).\n",
            "- العمود 'WHEELS_ON' يحتوي على 128 قيمة مفقودة (6.40%).\n",
            "- العمود 'TAXI_IN' يحتوي على 128 قيمة مفقودة (6.40%).\n",
            "- العمود 'ARRIVAL_TIME' يحتوي على 128 قيمة مفقودة (6.40%).\n",
            "- العمود 'ARRIVAL_DELAY' يحتوي على 130 قيمة مفقودة (6.50%).\n",
            "- العمود 'CANCELLATION_REASON' يحتوي على 1872 قيمة مفقودة (93.60%).\n",
            "- العمود 'AIR_SYSTEM_DELAY' يحتوي على 1738 قيمة مفقودة (86.90%).\n",
            "- العمود 'SECURITY_DELAY' يحتوي على 1738 قيمة مفقودة (86.90%).\n",
            "- العمود 'AIRLINE_DELAY' يحتوي على 1738 قيمة مفقودة (86.90%).\n",
            "- العمود 'LATE_AIRCRAFT_DELAY' يحتوي على 1738 قيمة مفقودة (86.90%).\n",
            "- العمود 'WEATHER_DELAY' يحتوي على 1738 قيمة مفقودة (86.90%).\n"
          ]
        }
      ]
    },
    {
      "cell_type": "markdown",
      "source": [
        "# Preprocessing"
      ],
      "metadata": {
        "id": "Ah9c0jZO71UG"
      }
    },
    {
      "cell_type": "code",
      "source": [
        "# التحقق من القيم المفقودة\n",
        "\n",
        "# التحقق من أنواع البيانات\n",
        "\n",
        "# القيم الفريدة لبعض الأعمدة\n",
        "\n",
        "\n",
        "# ملخص إحصائي\n",
        "\n",
        "# عرض النتائج\n"
      ],
      "metadata": {
        "id": "krbpWYfy71F1"
      },
      "execution_count": null,
      "outputs": []
    },
    {
      "cell_type": "code",
      "source": [
        "missing_values = data.isnull().sum()"
      ],
      "metadata": {
        "id": "ljs45eqk7DVN"
      },
      "execution_count": null,
      "outputs": []
    },
    {
      "cell_type": "code",
      "source": [
        "data_types = data.dtypes\n",
        "print(data_types)"
      ],
      "metadata": {
        "colab": {
          "base_uri": "https://localhost:8080/"
        },
        "id": "se8eb5Qv7DQX",
        "outputId": "1bbb0fd9-dd4a-4609-a91f-7113c1d9e61d"
      },
      "execution_count": null,
      "outputs": [
        {
          "output_type": "stream",
          "name": "stdout",
          "text": [
            "YEAR                     int64\n",
            "MONTH                    int64\n",
            "DAY                      int64\n",
            "DAY_OF_WEEK              int64\n",
            "AIRLINE                 object\n",
            "FLIGHT_NUMBER            int64\n",
            "TAIL_NUMBER             object\n",
            "ORIGIN_AIRPORT          object\n",
            "DESTINATION_AIRPORT     object\n",
            "SCHEDULED_DEPARTURE      int64\n",
            "DEPARTURE_TIME         float64\n",
            "DEPARTURE_DELAY        float64\n",
            "TAXI_OUT               float64\n",
            "WHEELS_OFF             float64\n",
            "SCHEDULED_TIME         float64\n",
            "ELAPSED_TIME           float64\n",
            "AIR_TIME               float64\n",
            "DISTANCE                 int64\n",
            "WHEELS_ON              float64\n",
            "TAXI_IN                float64\n",
            "SCHEDULED_ARRIVAL        int64\n",
            "ARRIVAL_TIME           float64\n",
            "ARRIVAL_DELAY          float64\n",
            "DIVERTED                 int64\n",
            "CANCELLED                int64\n",
            "CANCELLATION_REASON     object\n",
            "AIR_SYSTEM_DELAY       float64\n",
            "SECURITY_DELAY         float64\n",
            "AIRLINE_DELAY          float64\n",
            "LATE_AIRCRAFT_DELAY    float64\n",
            "WEATHER_DELAY          float64\n",
            "dtype: object\n"
          ]
        }
      ]
    },
    {
      "cell_type": "code",
      "source": [
        "unique_airlines = data['AIRLINE'].unique()\n",
        "unique_origins = data['ORIGIN_AIRPORT'].nunique() #المطار الاصلي\n",
        "unique_destinations = data['DESTINATION_AIRPORT'].nunique() # الوجهات"
      ],
      "metadata": {
        "id": "e9K2vbdl7DDq"
      },
      "execution_count": null,
      "outputs": []
    },
    {
      "cell_type": "code",
      "source": [
        "print(unique_airlines)\n",
        "print(unique_origins)\n",
        "print( unique_destinations)"
      ],
      "metadata": {
        "colab": {
          "base_uri": "https://localhost:8080/"
        },
        "id": "LZHVVIWj7UOE",
        "outputId": "76204fca-6e84-47cb-ca44-ecbf0ee67ce4"
      },
      "execution_count": null,
      "outputs": [
        {
          "output_type": "stream",
          "name": "stdout",
          "text": [
            "['AS' 'AA' 'US' 'DL' 'NK' 'UA' 'HA' 'B6' 'OO' 'EV' 'MQ' 'F9' 'WN' 'VX']\n",
            "257\n",
            "135\n"
          ]
        }
      ]
    },
    {
      "cell_type": "code",
      "source": [
        "statistical_summary = data.describe()\n",
        "print(statistical_summary)"
      ],
      "metadata": {
        "colab": {
          "base_uri": "https://localhost:8080/"
        },
        "id": "bniuTjzL7g-I",
        "outputId": "8b1d127b-d569-42b0-fcf5-975cd687f2f8"
      },
      "execution_count": null,
      "outputs": [
        {
          "output_type": "stream",
          "name": "stdout",
          "text": [
            "         YEAR   MONTH     DAY  DAY_OF_WEEK  FLIGHT_NUMBER  \\\n",
            "count  2000.0  2000.0  2000.0       2000.0    2000.000000   \n",
            "mean   2015.0     1.0     1.0          4.0    2001.107000   \n",
            "std       0.0     0.0     0.0          0.0    1867.687058   \n",
            "min    2015.0     1.0     1.0          4.0       1.000000   \n",
            "25%    2015.0     1.0     1.0          4.0     601.750000   \n",
            "50%    2015.0     1.0     1.0          4.0    1319.000000   \n",
            "75%    2015.0     1.0     1.0          4.0    2789.000000   \n",
            "max    2015.0     1.0     1.0          4.0    7428.000000   \n",
            "\n",
            "       SCHEDULED_DEPARTURE  DEPARTURE_TIME  DEPARTURE_DELAY     TAXI_OUT  \\\n",
            "count          2000.000000     1872.000000      1872.000000  1872.000000   \n",
            "mean            681.732500      684.559829         3.966880    16.697115   \n",
            "std             125.541891      139.730510        26.269621     8.052316   \n",
            "min               5.000000        2.000000       -18.000000     3.000000   \n",
            "25%             615.000000      621.000000        -5.000000    11.000000   \n",
            "50%             705.000000      710.000000        -2.000000    14.000000   \n",
            "75%             753.250000      755.000000         1.000000    20.000000   \n",
            "max             830.000000     2354.000000       364.000000    64.000000   \n",
            "\n",
            "        WHEELS_OFF  ...  SCHEDULED_ARRIVAL  ARRIVAL_TIME  ARRIVAL_DELAY  \\\n",
            "count  1872.000000  ...        2000.000000   1872.000000    1870.000000   \n",
            "mean    713.158654  ...         949.375000    953.858974      -0.983422   \n",
            "std     135.107076  ...         193.109956    196.815232      29.388038   \n",
            "min      14.000000  ...         320.000000    259.000000     -51.000000   \n",
            "25%     639.000000  ...         831.750000    831.000000     -15.000000   \n",
            "50%     726.000000  ...         927.500000    930.000000      -7.000000   \n",
            "75%     810.250000  ...        1031.000000   1037.000000       5.000000   \n",
            "max    1304.000000  ...        1820.000000   1916.000000     376.000000   \n",
            "\n",
            "          DIVERTED    CANCELLED  AIR_SYSTEM_DELAY  SECURITY_DELAY  \\\n",
            "count  2000.000000  2000.000000        262.000000      262.000000   \n",
            "mean      0.001000     0.064000         12.171756        0.664122   \n",
            "std       0.031615     0.244814         15.161111        7.237208   \n",
            "min       0.000000     0.000000          0.000000        0.000000   \n",
            "25%       0.000000     0.000000          0.000000        0.000000   \n",
            "50%       0.000000     0.000000          8.000000        0.000000   \n",
            "75%       0.000000     0.000000         20.000000        0.000000   \n",
            "max       1.000000     1.000000         97.000000      107.000000   \n",
            "\n",
            "       AIRLINE_DELAY  LATE_AIRCRAFT_DELAY  WEATHER_DELAY  \n",
            "count     262.000000           262.000000     262.000000  \n",
            "mean       25.770992             3.133588       7.286260  \n",
            "std        45.578708            21.326537      27.253425  \n",
            "min         0.000000             0.000000       0.000000  \n",
            "25%         0.000000             0.000000       0.000000  \n",
            "50%         9.000000             0.000000       0.000000  \n",
            "75%        30.000000             0.000000       0.000000  \n",
            "max       364.000000           306.000000     213.000000  \n",
            "\n",
            "[8 rows x 26 columns]\n"
          ]
        }
      ]
    },
    {
      "cell_type": "code",
      "source": [
        "missing_values, data_types, unique_airlines, unique_origins, unique_destinations, statistical_summary"
      ],
      "metadata": {
        "colab": {
          "base_uri": "https://localhost:8080/"
        },
        "id": "Qdxgw3Cd7ou3",
        "outputId": "61acecc3-c0bd-4f06-8a0a-eb33d060cab4"
      },
      "execution_count": null,
      "outputs": [
        {
          "output_type": "execute_result",
          "data": {
            "text/plain": [
              "(YEAR                      0\n",
              " MONTH                     0\n",
              " DAY                       0\n",
              " DAY_OF_WEEK               0\n",
              " AIRLINE                   0\n",
              " FLIGHT_NUMBER             0\n",
              " TAIL_NUMBER               2\n",
              " ORIGIN_AIRPORT            0\n",
              " DESTINATION_AIRPORT       0\n",
              " SCHEDULED_DEPARTURE       0\n",
              " DEPARTURE_TIME          128\n",
              " DEPARTURE_DELAY         128\n",
              " TAXI_OUT                128\n",
              " WHEELS_OFF              128\n",
              " SCHEDULED_TIME            0\n",
              " ELAPSED_TIME            130\n",
              " AIR_TIME                130\n",
              " DISTANCE                  0\n",
              " WHEELS_ON               128\n",
              " TAXI_IN                 128\n",
              " SCHEDULED_ARRIVAL         0\n",
              " ARRIVAL_TIME            128\n",
              " ARRIVAL_DELAY           130\n",
              " DIVERTED                  0\n",
              " CANCELLED                 0\n",
              " CANCELLATION_REASON    1872\n",
              " AIR_SYSTEM_DELAY       1738\n",
              " SECURITY_DELAY         1738\n",
              " AIRLINE_DELAY          1738\n",
              " LATE_AIRCRAFT_DELAY    1738\n",
              " WEATHER_DELAY          1738\n",
              " dtype: int64,\n",
              " YEAR                     int64\n",
              " MONTH                    int64\n",
              " DAY                      int64\n",
              " DAY_OF_WEEK              int64\n",
              " AIRLINE                 object\n",
              " FLIGHT_NUMBER            int64\n",
              " TAIL_NUMBER             object\n",
              " ORIGIN_AIRPORT          object\n",
              " DESTINATION_AIRPORT     object\n",
              " SCHEDULED_DEPARTURE      int64\n",
              " DEPARTURE_TIME         float64\n",
              " DEPARTURE_DELAY        float64\n",
              " TAXI_OUT               float64\n",
              " WHEELS_OFF             float64\n",
              " SCHEDULED_TIME         float64\n",
              " ELAPSED_TIME           float64\n",
              " AIR_TIME               float64\n",
              " DISTANCE                 int64\n",
              " WHEELS_ON              float64\n",
              " TAXI_IN                float64\n",
              " SCHEDULED_ARRIVAL        int64\n",
              " ARRIVAL_TIME           float64\n",
              " ARRIVAL_DELAY          float64\n",
              " DIVERTED                 int64\n",
              " CANCELLED                int64\n",
              " CANCELLATION_REASON     object\n",
              " AIR_SYSTEM_DELAY       float64\n",
              " SECURITY_DELAY         float64\n",
              " AIRLINE_DELAY          float64\n",
              " LATE_AIRCRAFT_DELAY    float64\n",
              " WEATHER_DELAY          float64\n",
              " dtype: object,\n",
              " array(['AS', 'AA', 'US', 'DL', 'NK', 'UA', 'HA', 'B6', 'OO', 'EV', 'MQ',\n",
              "        'F9', 'WN', 'VX'], dtype=object),\n",
              " 257,\n",
              " 135,\n",
              "          YEAR   MONTH     DAY  DAY_OF_WEEK  FLIGHT_NUMBER  \\\n",
              " count  2000.0  2000.0  2000.0       2000.0    2000.000000   \n",
              " mean   2015.0     1.0     1.0          4.0    2001.107000   \n",
              " std       0.0     0.0     0.0          0.0    1867.687058   \n",
              " min    2015.0     1.0     1.0          4.0       1.000000   \n",
              " 25%    2015.0     1.0     1.0          4.0     601.750000   \n",
              " 50%    2015.0     1.0     1.0          4.0    1319.000000   \n",
              " 75%    2015.0     1.0     1.0          4.0    2789.000000   \n",
              " max    2015.0     1.0     1.0          4.0    7428.000000   \n",
              " \n",
              "        SCHEDULED_DEPARTURE  DEPARTURE_TIME  DEPARTURE_DELAY     TAXI_OUT  \\\n",
              " count          2000.000000     1872.000000      1872.000000  1872.000000   \n",
              " mean            681.732500      684.559829         3.966880    16.697115   \n",
              " std             125.541891      139.730510        26.269621     8.052316   \n",
              " min               5.000000        2.000000       -18.000000     3.000000   \n",
              " 25%             615.000000      621.000000        -5.000000    11.000000   \n",
              " 50%             705.000000      710.000000        -2.000000    14.000000   \n",
              " 75%             753.250000      755.000000         1.000000    20.000000   \n",
              " max             830.000000     2354.000000       364.000000    64.000000   \n",
              " \n",
              "         WHEELS_OFF  ...  SCHEDULED_ARRIVAL  ARRIVAL_TIME  ARRIVAL_DELAY  \\\n",
              " count  1872.000000  ...        2000.000000   1872.000000    1870.000000   \n",
              " mean    713.158654  ...         949.375000    953.858974      -0.983422   \n",
              " std     135.107076  ...         193.109956    196.815232      29.388038   \n",
              " min      14.000000  ...         320.000000    259.000000     -51.000000   \n",
              " 25%     639.000000  ...         831.750000    831.000000     -15.000000   \n",
              " 50%     726.000000  ...         927.500000    930.000000      -7.000000   \n",
              " 75%     810.250000  ...        1031.000000   1037.000000       5.000000   \n",
              " max    1304.000000  ...        1820.000000   1916.000000     376.000000   \n",
              " \n",
              "           DIVERTED    CANCELLED  AIR_SYSTEM_DELAY  SECURITY_DELAY  \\\n",
              " count  2000.000000  2000.000000        262.000000      262.000000   \n",
              " mean      0.001000     0.064000         12.171756        0.664122   \n",
              " std       0.031615     0.244814         15.161111        7.237208   \n",
              " min       0.000000     0.000000          0.000000        0.000000   \n",
              " 25%       0.000000     0.000000          0.000000        0.000000   \n",
              " 50%       0.000000     0.000000          8.000000        0.000000   \n",
              " 75%       0.000000     0.000000         20.000000        0.000000   \n",
              " max       1.000000     1.000000         97.000000      107.000000   \n",
              " \n",
              "        AIRLINE_DELAY  LATE_AIRCRAFT_DELAY  WEATHER_DELAY  \n",
              " count     262.000000           262.000000     262.000000  \n",
              " mean       25.770992             3.133588       7.286260  \n",
              " std        45.578708            21.326537      27.253425  \n",
              " min         0.000000             0.000000       0.000000  \n",
              " 25%         0.000000             0.000000       0.000000  \n",
              " 50%         9.000000             0.000000       0.000000  \n",
              " 75%        30.000000             0.000000       0.000000  \n",
              " max       364.000000           306.000000     213.000000  \n",
              " \n",
              " [8 rows x 26 columns])"
            ]
          },
          "metadata": {},
          "execution_count": 22
        }
      ]
    },
    {
      "cell_type": "code",
      "source": [],
      "metadata": {
        "id": "vKuhKQ9m6nbd"
      },
      "execution_count": null,
      "outputs": []
    },
    {
      "cell_type": "markdown",
      "source": [
        "# Visualization data"
      ],
      "metadata": {
        "id": "qVqMEhRz-hJb"
      }
    },
    {
      "cell_type": "code",
      "source": [
        "import matplotlib.pyplot as plt\n",
        "import seaborn as sns\n"
      ],
      "metadata": {
        "id": "wvRe7AAQ-p5r"
      },
      "execution_count": null,
      "outputs": []
    },
    {
      "cell_type": "code",
      "source": [
        "# توزيع التأخيرات عند المغادرة\n",
        "\n",
        "plt.figure(figsize=(10, 6))\n",
        "sns.histplot(data['DEPARTURE_DELAY'], kde=True, bins=30, color='blue')\n",
        "plt.title('Distribution of delays on departure') # 'توزيع التأخيرات عند المغادرة'\n",
        "plt.xlabel('Departure delay (in minutes)') #'تأخير المغادرة (بالدقائق)'\n",
        "plt.ylabel('Number of flights') #'عدد الرحلات'\n",
        "plt.show()\n"
      ],
      "metadata": {
        "colab": {
          "base_uri": "https://localhost:8080/",
          "height": 564
        },
        "id": "mie8sClM-ynz",
        "outputId": "04756b28-563c-4725-b933-bc05cf86c9c9"
      },
      "execution_count": null,
      "outputs": [
        {
          "output_type": "display_data",
          "data": {
            "text/plain": [
              "<Figure size 1000x600 with 1 Axes>"
            ],
            "image/png": "[encoded data removed]"
          },
          "metadata": {}
        }
      ]
    },
    {
      "cell_type": "code",
      "source": [
        "# العلاقة بين تأخير المغادرة والوصول:\n",
        "\n",
        "\n",
        "plt.figure(figsize=(10, 6))\n",
        "sns.scatterplot(x=data['DEPARTURE_DELAY'], y=data['ARRIVAL_DELAY'], alpha=0.5)\n",
        "plt.title('The relationship between delayed departure and delayed arrival') #'العلاقة بين تأخير المغادرة وتأخير الوصول'\n",
        "plt.xlabel('Departure delay (in minutes)')#'تأخير المغادرة (بالدقائق)'\n",
        "plt.ylabel('Arrival delay (in minutes)') #'تأخير الوصول (بالدقائق)'\n",
        "plt.show()\n"
      ],
      "metadata": {
        "colab": {
          "base_uri": "https://localhost:8080/",
          "height": 564
        },
        "id": "fFgsPBMD-2DE",
        "outputId": "d0ec1318-08d5-4a9a-e54e-0497cc7c1a78"
      },
      "execution_count": null,
      "outputs": [
        {
          "output_type": "display_data",
          "data": {
            "text/plain": [
              "<Figure size 1000x600 with 1 Axes>"
            ],
            "image/png": "[encoded data removed]"
          },
          "metadata": {}
        }
      ]
    },
    {
      "cell_type": "code",
      "source": [
        "#3. تحليل توزيع الرحلات حسب شركة الطيران:\n",
        "\n",
        "plt.figure(figsize=(12, 6))\n",
        "sns.countplot(data=data, x='AIRLINE', order=data['AIRLINE'].value_counts().index)\n",
        "plt.title('Distribution of flights by airline')#توزيع الرحلات حسب شركة الطيران'\n",
        "plt.xlabel('The airline') #'شركة الطيران'\n",
        "plt.ylabel('Number of flights') #'عدد الرحلات'\n",
        "plt.xticks(rotation=45)\n",
        "plt.show()\n"
      ],
      "metadata": {
        "colab": {
          "base_uri": "https://localhost:8080/",
          "height": 559
        },
        "id": "KbcrQf4d_ftl",
        "outputId": "10f28774-90de-41d5-972d-894dd77c3b08"
      },
      "execution_count": null,
      "outputs": [
        {
          "output_type": "display_data",
          "data": {
            "text/plain": [
              "<Figure size 1200x600 with 1 Axes>"
            ],
            "image/png": "[encoded data removed]"
          },
          "metadata": {}
        }
      ]
    },
    {
      "cell_type": "code",
      "source": [
        "# تحليل التأخير حسب اليوم في الأسبوع:\n",
        "\n",
        "plt.figure(figsize=(10, 6))\n",
        "sns.boxplot(data=data, x='DAY_OF_WEEK', y='ARRIVAL_DELAY')\n",
        "plt.title('Distribution of arrival delays by day of the week') #'توزيع تأخير الوصول حسب اليوم في الأسبوع'\n",
        "plt.xlabel('Day of the week') #'اليوم في الأسبوع'\n",
        "plt.ylabel('Arrival delay (in minutes)') #'تأخير الوصول (بالدقائق)'\n",
        "plt.show()\n"
      ],
      "metadata": {
        "colab": {
          "base_uri": "https://localhost:8080/",
          "height": 564
        },
        "id": "tHP1aHpFAUwJ",
        "outputId": "14551b2d-2e2e-4021-e363-d562a68e34b8"
      },
      "execution_count": null,
      "outputs": [
        {
          "output_type": "display_data",
          "data": {
            "text/plain": [
              "<Figure size 1000x600 with 1 Axes>"
            ],
            "image/png": "[encoded data removed]"
          },
          "metadata": {}
        }
      ]
    },
    {
      "cell_type": "code",
      "source": [],
      "metadata": {
        "id": "pyrX39VrAXYX"
      },
      "execution_count": null,
      "outputs": []
    }
  ]
}